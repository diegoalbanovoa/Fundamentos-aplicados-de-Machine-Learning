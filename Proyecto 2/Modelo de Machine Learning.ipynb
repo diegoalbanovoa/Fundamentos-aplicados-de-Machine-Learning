{
 "cells": [
  {
   "cell_type": "markdown",
   "source": [
    "Paso 1: Preparación de Datos\n",
    "Primero, necesitas instalar las bibliotecas necesarias y preparar tus datos para el modelo. Utilizaremos pandas para manejar los datos, matplotlib para visualización, y sklearn para la creación del modelo."
   ],
   "metadata": {
    "collapsed": false
   },
   "id": "a573ba2204ff390a"
  },
  {
   "cell_type": "markdown",
   "source": [],
   "metadata": {
    "collapsed": false
   },
   "id": "107c3539d7c89c1c"
  },
  {
   "cell_type": "code",
   "outputs": [],
   "source": [
    "# Instalación de las bibliotecas necesarias (si no están instaladas)\n",
    "# !pip install pandas matplotlib scikit-learn\n",
    "\n",
    "import pandas as pd\n",
    "import matplotlib.pyplot as plt\n",
    "from sklearn.model_selection import train_test_split\n",
    "from sklearn.linear_model import LinearRegression\n",
    "from sklearn.metrics import mean_squared_error\n",
    "\n",
    "# Crear un dataset ficticio\n",
    "data = {\n",
    "    'Area': [50, 60, 70, 80, 90, 100, 110, 120, 130, 140],\n",
    "    'Precio': [150000, 180000, 210000, 240000, 270000, 300000, 330000, 360000, 390000, 420000]\n",
    "}\n",
    "df = pd.DataFrame(data)\n",
    "\n",
    "# Visualización de datos\n",
    "plt.scatter(df['Area'], df['Precio'])\n",
    "plt.title('Precio vs Area')\n",
    "plt.xlabel('Area (m^2)')\n",
    "plt.ylabel('Precio ($)')\n",
    "plt.grid(True)\n",
    "plt.show()\n"
   ],
   "metadata": {
    "collapsed": false
   },
   "id": "b39ebd170a5f203b",
   "execution_count": null
  },
  {
   "cell_type": "markdown",
   "source": [
    "Paso 2: Construcción del Modelo de Regresión\n",
    "Ahora, vamos a dividir los datos en un conjunto de entrenamiento y otro de prueba. Luego, construiremos y evaluaremos un modelo de regresión lineal."
   ],
   "metadata": {
    "collapsed": false
   },
   "id": "ddfadcc2882610c3"
  },
  {
   "cell_type": "code",
   "outputs": [],
   "source": [
    "# Dividir los datos en entrenamiento y prueba\n",
    "X = df[['Area']]  # Feature matrix\n",
    "y = df['Precio']  # Response vector\n",
    "X_train, X_test, y_train, y_test = train_test_split(X, y, test_size=0.2, random_state=42)\n",
    "\n",
    "# Construcción del modelo de regresión lineal\n",
    "model = LinearRegression()\n",
    "model.fit(X_train, y_train)\n",
    "\n",
    "# Predicción con el conjunto de prueba\n",
    "y_pred = model.predict(X_test)\n",
    "\n",
    "# Evaluación del modelo\n",
    "mse = mean_squared_error(y_test, y_pred)\n",
    "print(\"El error cuadrático medio (MSE) del modelo es:\", mse)\n",
    "\n",
    "# Visualización del modelo\n",
    "plt.scatter(X_train, y_train, color='blue', label='Datos de entrenamiento')\n",
    "plt.scatter(X_test, y_test, color='green', label='Datos de prueba')\n",
    "plt.plot(X_test, y_pred, color='red', label='Línea de regresión')\n",
    "plt.title('Regresión Lineal del Precio vs Área')\n",
    "plt.xlabel('Area (m^2)')\n",
    "plt.ylabel('Precio ($)')\n",
    "plt.legend()\n",
    "plt.grid(True)\n",
    "plt.show()\n"
   ],
   "metadata": {
    "collapsed": false
   },
   "id": "62f563c2fd471abf",
   "execution_count": null
  }
 ],
 "metadata": {
  "kernelspec": {
   "display_name": "Python 3",
   "language": "python",
   "name": "python3"
  },
  "language_info": {
   "codemirror_mode": {
    "name": "ipython",
    "version": 2
   },
   "file_extension": ".py",
   "mimetype": "text/x-python",
   "name": "python",
   "nbconvert_exporter": "python",
   "pygments_lexer": "ipython2",
   "version": "2.7.6"
  }
 },
 "nbformat": 4,
 "nbformat_minor": 5
}
