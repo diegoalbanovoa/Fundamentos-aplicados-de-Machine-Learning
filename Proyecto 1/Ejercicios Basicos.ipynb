{
 "cells": [
  {
   "cell_type": "markdown",
   "source": [
    "Ejercicio 1: Variables y Tipos de Datos"
   ],
   "metadata": {
    "collapsed": false
   },
   "id": "774551b53b760ea0"
  },
  {
   "cell_type": "code",
   "outputs": [],
   "source": [
    "# Declaración de variables\n",
    "numero = 10\n",
    "texto = \"Hola, mundo!\"\n",
    "flotante = 3.1416\n",
    "booleano = True\n",
    "\n",
    "# Mostrar contenido y tipo de cada variable\n",
    "print(\"Número:\", numero, \"- Tipo:\", type(numero))\n",
    "print(\"Texto:\", texto, \"- Tipo:\", type(texto))\n",
    "print(\"Flotante:\", flotante, \"- Tipo:\", type(flotante))\n",
    "print(\"Booleano:\", booleano, \"- Tipo:\", type(booleano))\n",
    "# Declaración de variables\n",
    "numero = 10\n",
    "texto = \"Hola, mundo!\"\n",
    "flotante = 3.1416\n",
    "booleano = True\n",
    "\n",
    "# Mostrar contenido y tipo de cada variable\n",
    "print(\"Número:\", numero, \"- Tipo:\", type(numero))\n",
    "print(\"Texto:\", texto, \"- Tipo:\", type(texto))\n",
    "print(\"Flotante:\", flotante, \"- Tipo:\", type(flotante))\n",
    "print(\"Booleano:\", booleano, \"- Tipo:\", type(booleano))\n"
   ],
   "metadata": {
    "collapsed": false
   },
   "id": "5ab5ca76688bc94e",
   "execution_count": null
  },
  {
   "cell_type": "markdown",
   "source": [
    "Ejercicio 2: Listas y Bucles"
   ],
   "metadata": {
    "collapsed": false
   },
   "id": "a8159888f72e13f6"
  },
  {
   "cell_type": "code",
   "outputs": [],
   "source": [
    "# Lista de números\n",
    "numeros = [1, 2, 3, 4, 5]\n",
    "\n",
    "# Agregar un elemento al final de la lista\n",
    "numeros.append(6)\n",
    "print(\"Lista después de agregar un elemento:\", numeros)\n",
    "\n",
    "# Iterar sobre la lista con un bucle for\n",
    "for numero in numeros:\n",
    "    print(\"Número:\", numero)\n"
   ],
   "metadata": {
    "collapsed": false
   },
   "id": "7edf822193a80ed3",
   "execution_count": null
  },
  {
   "cell_type": "markdown",
   "source": [
    "Ejercicio 3: Funciones"
   ],
   "metadata": {
    "collapsed": false
   },
   "id": "46601596b5b0b945"
  },
  {
   "cell_type": "code",
   "outputs": [],
   "source": [
    "# Definición de la función\n",
    "def sumar(a, b):\n",
    "    return a + b\n",
    "\n",
    "# Llamada a la función\n",
    "resultado = sumar(5, 3)\n",
    "print(\"El resultado de la suma es:\", resultado)\n"
   ],
   "metadata": {
    "collapsed": false
   },
   "id": "290670ab7c55b18c",
   "execution_count": null
  },
  {
   "cell_type": "markdown",
   "source": [
    "Ejercicio 4: Condicionales"
   ],
   "metadata": {
    "collapsed": false
   },
   "id": "9d8a748aae12c34d"
  },
  {
   "cell_type": "code",
   "outputs": [],
   "source": [
    "# Variable para comparar\n",
    "edad = 20\n",
    "\n",
    "# Estructura condicional para verificar la edad\n",
    "if edad >= 18:\n",
    "    print(\"Eres mayor de edad.\")\n",
    "else:\n",
    "    print(\"Eres menor de edad.\")\n"
   ],
   "metadata": {
    "collapsed": false
   },
   "id": "af5c0b6df1bda159",
   "execution_count": null
  }
 ],
 "metadata": {
  "kernelspec": {
   "display_name": "Python 3",
   "language": "python",
   "name": "python3"
  },
  "language_info": {
   "codemirror_mode": {
    "name": "ipython",
    "version": 2
   },
   "file_extension": ".py",
   "mimetype": "text/x-python",
   "name": "python",
   "nbconvert_exporter": "python",
   "pygments_lexer": "ipython2",
   "version": "2.7.6"
  }
 },
 "nbformat": 4,
 "nbformat_minor": 5
}
