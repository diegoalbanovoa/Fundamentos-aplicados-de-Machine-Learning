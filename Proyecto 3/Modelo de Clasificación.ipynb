{
 "cells": [
  {
   "cell_type": "markdown",
   "source": [
    "Paso 1: Preparación de Datos\n",
    "Primero, importa las bibliotecas necesarias y crea un conjunto de datos ficticio para nuestro problema."
   ],
   "metadata": {
    "collapsed": false
   },
   "id": "8f7de7b7f8cb5c02"
  },
  {
   "cell_type": "code",
   "execution_count": null,
   "id": "initial_id",
   "metadata": {
    "collapsed": true
   },
   "outputs": [],
   "source": [
    "import pandas as pd\n",
    "import numpy as np\n",
    "import matplotlib.pyplot as plt\n",
    "from sklearn.model_selection import train_test_split, GridSearchCV\n",
    "from sklearn.ensemble import RandomForestClassifier\n",
    "from sklearn.metrics import classification_report, confusion_matrix\n",
    "\n",
    "# Crear un dataset ficticio\n",
    "data = {\n",
    "    'Ingreso_anual': [30, 40, 50, 60, 70, 80, 90, 100, 110, 120],\n",
    "    'Edad': [25, 30, 35, 40, 45, 50, 55, 60, 65, 70],\n",
    "    'Historial_credito': [1, 1, 1, 1, 0, 0, 0, 0, 1, 1],\n",
    "    'Aprobado': [1, 1, 1, 1, 0, 0, 0, 0, 1, 1]  # 1 = Aprobado, 0 = No aprobado\n",
    "}\n",
    "df = pd.DataFrame(data)\n"
   ]
  },
  {
   "cell_type": "markdown",
   "source": [],
   "metadata": {
    "collapsed": false
   },
   "id": "9372ec084499049b"
  },
  {
   "cell_type": "markdown",
   "source": [
    "Paso 2: Construcción del Modelo de Clasificación\n",
    "Divide los datos en conjuntos de entrenamiento y prueba, construye un modelo usando RandomForest, y luego evalúa su desempeño inicial."
   ],
   "metadata": {
    "collapsed": false
   },
   "id": "2677897f6956ec0"
  },
  {
   "cell_type": "code",
   "outputs": [],
   "source": [
    "# Dividir los datos en entrenamiento y prueba\n",
    "X = df[['Ingreso_anual', 'Edad', 'Historial_credito']]\n",
    "y = df['Aprobado']\n",
    "X_train, X_test, y_train, y_test = train_test_split(X, y, test_size=0.3, random_state=42)\n",
    "\n",
    "# Crear y entrenar el modelo RandomForest\n",
    "model = RandomForestClassifier(random_state=42)\n",
    "model.fit(X_train, y_train)\n",
    "\n",
    "# Predicción y evaluación inicial\n",
    "y_pred = model.predict(X_test)\n",
    "print(classification_report(y_test, y_pred))\n",
    "print(\"Matriz de confusión:\\n\", confusion_matrix(y_test, y_pred))\n"
   ],
   "metadata": {
    "collapsed": false
   },
   "id": "2fc023db72d84398",
   "execution_count": null
  },
  {
   "cell_type": "markdown",
   "source": [
    "Paso 3: Optimización de Hiperparámetros\n",
    "Utiliza GridSearchCV para encontrar los mejores hiperparámetros para el modelo RandomForest."
   ],
   "metadata": {
    "collapsed": false
   },
   "id": "b7b337d2276ef35d"
  },
  {
   "cell_type": "code",
   "outputs": [],
   "source": [
    "# Definir los parámetros para la búsqueda en cuadrícula\n",
    "param_grid = {\n",
    "    'n_estimators': [10, 50, 100, 200],\n",
    "    'max_features': ['auto', 'sqrt', 'log2'],\n",
    "    'max_depth': [None, 10, 20, 30, 40, 50],\n",
    "    'min_samples_split': [2, 5, 10],\n",
    "    'min_samples_leaf': [1, 2, 4]\n",
    "}\n",
    "\n",
    "# Configurar GridSearchCV\n",
    "grid_search = GridSearchCV(estimator=model, param_grid=param_grid, cv=3, verbose=2, n_jobs=-1)\n",
    "\n",
    "# Ejecutar búsqueda en cuadrícula\n",
    "grid_search.fit(X_train, y_train)\n",
    "\n",
    "# Mejor modelo\n",
    "best_model = grid_search.best_estimator_\n",
    "\n",
    "# Evaluación del mejor modelo\n",
    "y_pred_optimized = best_model.predict(X_test)\n",
    "print(\"Resultado después de la optimización de hiperparámetros:\")\n",
    "print(classification_report(y_test, y_pred_optimized))\n",
    "print(\"Matriz de confusión:\\n\", confusion_matrix(y_test, y_pred_optimized))\n"
   ],
   "metadata": {
    "collapsed": false
   },
   "id": "41af6f9a20dbeb38",
   "execution_count": null
  }
 ],
 "metadata": {
  "kernelspec": {
   "display_name": "Python 3",
   "language": "python",
   "name": "python3"
  },
  "language_info": {
   "codemirror_mode": {
    "name": "ipython",
    "version": 2
   },
   "file_extension": ".py",
   "mimetype": "text/x-python",
   "name": "python",
   "nbconvert_exporter": "python",
   "pygments_lexer": "ipython2",
   "version": "2.7.6"
  }
 },
 "nbformat": 4,
 "nbformat_minor": 5
}
